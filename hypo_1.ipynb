{
 "cells": [
  {
   "cell_type": "markdown",
   "metadata": {},
   "source": [
    "Hypothesis 1. There a significant linear relationship between voltage and global active power"
   ]
  },
  {
   "cell_type": "markdown",
   "metadata": {},
   "source": [
    "The null and alternative hypotheses are:\n",
    "\n",
    "H₀: ρ = 0 (no correlation between voltage and global active power)\n",
    "H₁: ρ ≠ 0 (there is a correlation between voltage and global active power)"
   ]
  },
  {
   "cell_type": "markdown",
   "metadata": {},
   "source": [
    "To test if higher voltage readings are associated with increased global active power usage, we can use a t-test for Correlation Coefficient since we're testing the relationship between two continuous variables. \n",
    "\n",
    "We calculate the Pearson correlation coefficient between voltage and global active power\n",
    "Computes the t-statistic for testing the significance of the correlation\n",
    "Determines the critical value for a two-tailed test at α=0.05\n",
    "\n",
    "The test will help determine if there's statistically significant evidence of a relationship between voltage readings and global active power usage. "
   ]
  },
  {
   "cell_type": "code",
   "execution_count": 5,
   "metadata": {},
   "outputs": [
    {
     "name": "stdout",
     "output_type": "stream",
     "text": [
      "\n",
      "Hypothesis Test Results:\n",
      "-----------------------\n",
      "Correlation Coefficient (r): -0.3154\n",
      "t-statistic: -459.7670\n",
      "Critical Value (two-tailed, α=0.05): ±1.9600\n",
      "p-value: 0.0000\n",
      "Degrees of freedom: 1913073\n",
      "\n",
      "Interpretation:\n",
      "--------------\n",
      "Reject the null hypothesis.\n",
      "There is significant evidence of a negative correlation between voltage and global active power.\n"
     ]
    }
   ],
   "source": [
    "import pandas as pd\n",
    "import numpy as np\n",
    "from scipy import stats\n",
    "import matplotlib.pyplot as plt\n",
    "import seaborn as sns\n",
    "\n",
    "def test_voltage_power_correlation(df):\n",
    "\n",
    "    correlation, p_value = stats.pearsonr(df['Voltage'], df['Global_active_power'])\n",
    "    \n",
    "    n = len(df)\n",
    "    t_stat = correlation * np.sqrt((n-2)/(1-correlation**2))\n",
    "    \n",
    "    # Calculate degrees of freedom\n",
    "    df_stat = n - 2\n",
    "    \n",
    "    # Calculate critical value for two-tailed test at 0.05 significance level\n",
    "    critical_value = stats.t.ppf(0.975, df_stat)\n",
    "    \n",
    "    results = {\n",
    "        'correlation': correlation,\n",
    "        'p_value': p_value,\n",
    "        't_statistic': t_stat,\n",
    "        'critical_value': critical_value,\n",
    "        'degrees_of_freedom': df_stat\n",
    "    }\n",
    "    \n",
    "    return results\n",
    "\n",
    "results = test_voltage_power_correlation(df)\n",
    "\n",
    "print(\"\\nHypothesis Test Results:\")\n",
    "print(\"-----------------------\")\n",
    "print(f\"Correlation Coefficient (r): {results['correlation']:.4f}\")\n",
    "print(f\"t-statistic: {results['t_statistic']:.4f}\")\n",
    "print(f\"Critical Value (two-tailed, α=0.05): ±{results['critical_value']:.4f}\")\n",
    "print(f\"p-value: {results['p_value']:.4f}\")\n",
    "print(f\"Degrees of freedom: {results['degrees_of_freedom']}\")\n",
    "\n",
    "print(\"\\nInterpretation:\")\n",
    "print(\"--------------\")\n",
    "if abs(results['t_statistic']) > results['critical_value']:\n",
    "    print(\"Reject the null hypothesis.\")\n",
    "    if results['correlation'] > 0:\n",
    "        print(\"There is significant evidence of a positive correlation between voltage and global active power.\")\n",
    "    else:\n",
    "        print(\"There is significant evidence of a negative correlation between voltage and global active power.\")\n",
    "else:\n",
    "    print(\"Fail to reject the null hypothesis.\")\n",
    "    print(\"There is insufficient evidence of a correlation between voltage and global active power.\")\n"
   ]
  }
 ],
 "metadata": {
  "language_info": {
   "name": "python"
  }
 },
 "nbformat": 4,
 "nbformat_minor": 2
}
